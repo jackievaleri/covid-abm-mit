{
 "cells": [
  {
   "cell_type": "markdown",
   "metadata": {},
   "source": [
    "Based on run.py and model.py"
   ]
  },
  {
   "cell_type": "code",
   "execution_count": 10,
   "metadata": {},
   "outputs": [],
   "source": [
    "import argparse\n",
    "import os\n",
    "from datetime import date as datemethod\n",
    "from datetime import datetime\n",
    "import mesa_SIR.calculations_and_plots as c_p\n",
    "\n",
    "import mesa\n",
    "from mesa import Model\n",
    "from mesa.time import RandomActivation\n",
    "from mesa.space import NetworkGrid\n",
    "from mesa.datacollection import DataCollector\n",
    "import agent\n",
    "from mesa_SIR import SIR"
   ]
  },
  {
   "cell_type": "code",
   "execution_count": 11,
   "metadata": {},
   "outputs": [],
   "source": [
    "# Generate output file name parameters\n",
    "output_path = '../out/'\n",
    "\n",
    "today = datemethod.strftime(datetime.utcnow(), '%Y%m%dZ%H%M%S')\n",
    "\n",
    "filename = 'COVID_output_' + today + '.csv'\n",
    "output_file = os.path.join(output_path, filename)"
   ]
  },
  {
   "cell_type": "code",
   "execution_count": 12,
   "metadata": {},
   "outputs": [],
   "source": [
    "class custom_COVID_model(Model):\n",
    "    \n",
    "    def __init__(self, interactions, population, ptrans, reinfection_rate, I0, severe, progression_period, progression_sd, death_rate, recovery_days, recovery_sd):\n",
    "        super().__init__(Model)\n",
    "        \n",
    "        self.susceptible = 0\n",
    "        self.dead = 0\n",
    "        self.recovered = 0\n",
    "        self.infected = 0\n",
    "        interactions = interactions\n",
    "        self.population = population\n",
    "        self.SIR_instance = SIR.Infection(self, ptrans = ptrans,\n",
    "                                          reinfection_rate = reinfection_rate,\n",
    "                                          I0= I0,\n",
    "                                          severe = severe,\n",
    "                                          progression_period = progression_period,\n",
    "                                          progression_sd = progression_sd,\n",
    "                                          death_rate = death_rate,\n",
    "                                          recovery_days = recovery_days,\n",
    "                                          recovery_sd = recovery_sd)\n",
    "\n",
    "\n",
    "        G = SIR.build_network(interactions, self.population)\n",
    "        self.grid = NetworkGrid(G)\n",
    "        self.schedule = RandomActivation(self)\n",
    "        self.dead_agents = []\n",
    "        self.running = True\n",
    "    \n",
    "        for node in range(self.population):\n",
    "            new_agent = agent.human(node, self) #what was self.next_id()\n",
    "            self.grid.place_agent(new_agent, node)\n",
    "            self.schedule.add(new_agent)\n",
    "\n",
    "        #self.meme = 0\n",
    "        self.datacollector = DataCollector(model_reporters={\"infected\": lambda m: c_p.compute(m,'infected'),\n",
    "                                                            \"recovered\": lambda m: c_p.compute(m,'recovered'),\n",
    "                                                            \"susceptible\": lambda m: c_p.compute(m,\"susceptible\"),\n",
    "                                                            \"dead\": lambda m: c_p.compute(m, \"dead\"),\n",
    "                                                            \"R0\": lambda m: c_p.compute(m, \"R0\"),\n",
    "                                                            \"severe_cases\": lambda m: c_p.compute(m,\"severe\")})\n",
    "        self.datacollector.collect(self)\n",
    "    \n",
    "    def step(self):\n",
    "        self.schedule.step()\n",
    "        \n",
    "        self.datacollector.collect(self)\n",
    "        '''\n",
    "        for a in self.schedule.agents:\n",
    "            if a.alive == False:\n",
    "                self.schedule.remove(a)\n",
    "                self.dead_agents.append(a.unique_id)\n",
    "        '''\n",
    "\n",
    "        if self.dead == self.schedule.get_agent_count():\n",
    "            self.running = False\n",
    "        else:\n",
    "            self.running = True"
   ]
  },
  {
   "cell_type": "code",
   "execution_count": 14,
   "metadata": {},
   "outputs": [
    {
     "name": "stdout",
     "output_type": "stream",
     "text": [
      "     infected  recovered  susceptible  dead   R0  severe_cases\n",
      "0           0          0         1000   0.0  0.0             0\n",
      "1           0          0         1000   0.0  0.0             0\n",
      "2           0          0         1000   0.0  0.0             0\n",
      "3           0          0         1000   0.0  0.0             0\n",
      "4           0          0         1000   0.0  0.0             0\n",
      "..        ...        ...          ...   ...  ...           ...\n",
      "96          0          0         1000   0.0  0.0             0\n",
      "97          0          0         1000   0.0  0.0             0\n",
      "98          0          0         1000   0.0  0.0             0\n",
      "99          0          0         1000   0.0  0.0             0\n",
      "100         0          0         1000   0.0  0.0             0\n",
      "\n",
      "[101 rows x 6 columns]\n"
     ]
    }
   ],
   "source": [
    "# Number of steps to run model.\n",
    "\n",
    "I0=0.001 # I0 = Initial probability of being infected\n",
    "ptrans=0.25 # ptrans = Transmission probability\n",
    "progression_period=3 # progression_period = Average number of days until a patient seeks treatment.\n",
    "progression_sd=2 # progression_sd = Standard deviation of progression_period.\n",
    "population=4600 # population = Total population within all containers\n",
    "interactions=12 # interactions = Average number of interactions per person per day (decreases with social distancing\n",
    "reinfection_rate=0.00 # reinfection_rate = Probability of becoming susceptible again after recovery\n",
    "death_rate=0.0193 # death_rate = Probability of dying after being infected after progression_period and before recovery_days\n",
    "recovery_days=21 # recovery_days = Average number of days until recovery\n",
    "recovery_sd=7 # recovery_sd = Standard deviation of recovery_days\n",
    "severe=0.05 # severe = Probability of developing severe, symptomatic disease\n",
    "steps=100 # steps = number of days in simulation\n",
    "\n",
    "\n",
    "# Instantiate model\n",
    "meme_model = custom_COVID_model(interactions, population, ptrans, reinfection_rate, I0, severe, progression_period, progression_sd, death_rate, recovery_days, recovery_sd)\n",
    "\n",
    "for i in range(steps):\n",
    "    #print('Running step {}'.format(str(i)))\n",
    "    meme_model.step()\n",
    "\n",
    "# Generate output    \n",
    "output_data = meme_model.datacollector.get_model_vars_dataframe()\n",
    "c_p.save_data(output_data, output_path = output_path, filename =filename)\n",
    "\n",
    "print (output_data)\n",
    "#print('Filename:')\n",
    "#print(filename)\n",
    "\n",
    "#print('Plotting...')\n",
    "title = 'COVID ABM Model Output'\n",
    "c_p.plot_SIR(output_data, title, output_path)\n",
    "c_p.plot_R0(output_data, title, output_path)\n",
    "c_p.plot_severe(output_data, title, output_path)"
   ]
  },
  {
   "cell_type": "code",
   "execution_count": null,
   "metadata": {},
   "outputs": [],
   "source": []
  }
 ],
 "metadata": {
  "kernelspec": {
   "display_name": "covid_sim_mesa_venv",
   "language": "python",
   "name": "covid_sim_mesa_venv"
  },
  "language_info": {
   "codemirror_mode": {
    "name": "ipython",
    "version": 3
   },
   "file_extension": ".py",
   "mimetype": "text/x-python",
   "name": "python",
   "nbconvert_exporter": "python",
   "pygments_lexer": "ipython3",
   "version": "3.7.7"
  }
 },
 "nbformat": 4,
 "nbformat_minor": 2
}
