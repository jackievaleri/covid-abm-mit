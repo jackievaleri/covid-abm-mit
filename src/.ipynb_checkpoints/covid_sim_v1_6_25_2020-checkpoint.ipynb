{
 "cells": [
  {
   "cell_type": "markdown",
   "metadata": {},
   "source": [
    "Based on run.py."
   ]
  },
  {
   "cell_type": "code",
   "execution_count": 4,
   "metadata": {},
   "outputs": [],
   "source": [
    "from model import COVID_model\n",
    "import model_params\n",
    "import argparse\n",
    "import os\n",
    "from datetime import date as datemethod\n",
    "from datetime import datetime\n",
    "import mesa_SIR.calculations_and_plots as c_p"
   ]
  },
  {
   "cell_type": "code",
   "execution_count": 6,
   "metadata": {},
   "outputs": [
    {
     "name": "stderr",
     "output_type": "stream",
     "text": [
      "usage: ipykernel_launcher.py [-h] [-o OUTPUT]\n",
      "ipykernel_launcher.py: error: unrecognized arguments: -f /Users/jackie16201/Library/Jupyter/runtime/kernel-3f2a733b-c409-404d-8b14-0e45bffd3bc0.json\n"
     ]
    },
    {
     "ename": "SystemExit",
     "evalue": "2",
     "output_type": "error",
     "traceback": [
      "An exception has occurred, use %tb to see the full traceback.\n",
      "\u001b[0;31mSystemExit\u001b[0m\u001b[0;31m:\u001b[0m 2\n"
     ]
    }
   ],
   "source": [
    "# Specify arguments\n",
    "def get_path():\n",
    "    parser = argparse.ArgumentParser()\n",
    "    parser.add_argument('-o', '--output', help='Enter the output path.', required=False)\n",
    "    args = vars(parser.parse_args())\n",
    "    print (args)\n",
    "    output_path = str(args['output'])\n",
    "    return output_path\n",
    "\n",
    "# Generate output file name parameters\n",
    "output_path = '../out/'\n"
   ]
  },
  {
   "cell_type": "code",
   "execution_count": null,
   "metadata": {},
   "outputs": [],
   "source": [
    "\n",
    "today = datemethod.strftime(datetime.utcnow(), '%Y%m%dZ%H%M%S')\n",
    "\n",
    "# Number of steps to run model.\n",
    "steps = model_params.parameters['steps']\n",
    "\n",
    "filename = 'COVID_output_' + today + '.csv'\n",
    "output_file = os.path.join(output_path, filename)\n",
    "\n",
    "# Instantiate model\n",
    "meme_model = COVID_model()\n",
    "\n",
    "for i in range(steps):\n",
    "    print('Running step {}'.format(str(i)))\n",
    "    meme_model.step()\n",
    "\n",
    "# Generate output    \n",
    "output_data = meme_model.datacollector.get_model_vars_dataframe()\n",
    "c_p.save_data(output_data, output_path = output_path, filename =filename)\n",
    "\n",
    "print (output_data)\n",
    "print('Filename:')\n",
    "print(filename)\n",
    "\n",
    "print('Plotting...')\n",
    "title = 'COVID ABM Model Output'\n",
    "c_p.plot_SIR(output_data, title, output_path)\n",
    "c_p.plot_R0(output_data, title, output_path)\n",
    "c_p.plot_severe(output_data, title, output_path)\n",
    "\n",
    "print('You are great!!')"
   ]
  }
 ],
 "metadata": {
  "kernelspec": {
   "display_name": "covid_sim_mesa_venv",
   "language": "python",
   "name": "covid_sim_mesa_venv"
  },
  "language_info": {
   "codemirror_mode": {
    "name": "ipython",
    "version": 3
   },
   "file_extension": ".py",
   "mimetype": "text/x-python",
   "name": "python",
   "nbconvert_exporter": "python",
   "pygments_lexer": "ipython3",
   "version": "3.7.7"
  }
 },
 "nbformat": 4,
 "nbformat_minor": 2
}
