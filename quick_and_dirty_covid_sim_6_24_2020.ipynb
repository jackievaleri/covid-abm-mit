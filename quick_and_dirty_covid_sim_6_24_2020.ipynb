{
 "cells": [
  {
   "cell_type": "code",
   "execution_count": 1,
   "metadata": {},
   "outputs": [],
   "source": [
    "# imports\n",
    "import numpy as np\n",
    "import matplotlib.pyplot as plt"
   ]
  },
  {
   "cell_type": "code",
   "execution_count": 2,
   "metadata": {},
   "outputs": [],
   "source": [
    "# hardcoded parameters\n",
    "NUM_STUDENTS = 4602 # just undergraduates\n",
    "NUM_STUDENTS_IN_RES_HALLS = 3300\n",
    "NUM_STUDENTS_IN_FSILGS = NUM_STUDENTS - NUM_STUDENTS_IN_RES_HALLS\n",
    "LENGTH_OF_SEMESTER = 100\n",
    "\n",
    "NUM_INFECTED_AT_BEGINNING = 0\n",
    "ATTACK_RATE_FOR_RESIDENTIAL_ENCOUNTERS = 0.329\n",
    "IMMUNITY_AT_ONSET = 0.05\n",
    "\n",
    "EXPOSURE_TIME = 2\n",
    "PERCENT_ASYMPTOMATIC = 0.75\n",
    "ASYMPTOMATIC_EFFECT_ON_R0 = 0.5"
   ]
  },
  {
   "cell_type": "code",
   "execution_count": 3,
   "metadata": {},
   "outputs": [],
   "source": [
    "# parameter sweeps\n",
    "false_positive_rates = [0.1, 0.3, 0.5, 1]\n",
    "false_negative_rates = [1, 3]\n",
    "pct_students_selected_for_testing_per_day = [0, 0.033, 0.066, 0.125, 0.25] # test never, every 30 days, every 15 days, every 8 days, and every 4 days\n",
    "\n",
    "num_res_contacts_for_res_halls = [1, 2, 3]\n",
    "num_res_contacts_for_fsilgs = [1, 3, 5]\n",
    "r0_outside_of_residential_contacts = [0.5, 1, 2, 3]"
   ]
  },
  {
   "cell_type": "code",
   "execution_count": 4,
   "metadata": {},
   "outputs": [],
   "source": [
    "# set some defaults\n",
    "default_false_positive_rates = 0.1\n",
    "default_false_negative_rates = 1\n",
    "default_pct_students_selected_for_testing_per_day = 0.125 # test every 8 days\n",
    "\n",
    "default_num_res_contacts_for_res_halls = 2\n",
    "default_num_res_contacts_for_fsilgs = 3\n",
    "default_r0_outside_of_residential_contacts = 1"
   ]
  },
  {
   "cell_type": "code",
   "execution_count": 5,
   "metadata": {},
   "outputs": [],
   "source": [
    "# student populations to track\n",
    "symptomatic_infected = np.zeros((LENGTH_OF_SEMESTER,), dtype=int)\n",
    "\n",
    "asymptomatic_infected = np.zeros((LENGTH_OF_SEMESTER,), dtype=int)\n",
    "asymptomatic_infected[0] = NUM_INFECTED_AT_BEGINNING\n",
    "\n",
    "susceptible = np.zeros((LENGTH_OF_SEMESTER,), dtype=int)\n",
    "susceptible[0] = NUM_STUDENTS - NUM_INFECTED_AT_BEGINNING\n",
    "\n",
    "quarantined = np.zeros((LENGTH_OF_SEMESTER,), dtype=int)\n",
    "\n",
    "recovered_unknown = np.zeros((LENGTH_OF_SEMESTER,), dtype=int)\n",
    "recovered_unknown[0] = IMMUNITY_AT_ONSET * NUM_STUDENTS\n",
    "\n",
    "recovered_known = np.zeros((LENGTH_OF_SEMESTER,), dtype=int)"
   ]
  },
  {
   "cell_type": "code",
   "execution_count": 9,
   "metadata": {},
   "outputs": [],
   "source": [
    "def calc_new_infections(curr_symptomatic_infected, curr_asymptomatic_infected, \n",
    "                        curr_susceptible, curr_quarantined, curr_recovered_unknown, curr_recovered_known):\n",
    "    return 5"
   ]
  },
  {
   "cell_type": "code",
   "execution_count": 10,
   "metadata": {},
   "outputs": [],
   "source": [
    "num_to_test_every_day = default_pct_students_selected_for_testing_per_day\n",
    "\n",
    "# run simulation over 100 days\n",
    "for day_num in range(0, LENGTH_OF_SEMESTER - 1):\n",
    "    ## TEST!!!\n",
    "    # first test susceptible- true negative population\n",
    "    tests_of_susceptible = np.int(default_pct_students_selected_for_testing_per_day * susceptible[day_num])\n",
    "    pos_tests_of_susceptible = np.int(tests_of_susceptible * default_false_positive_rates)\n",
    "    neg_tests_of_susceptible = tests_of_susceptible - pos_tests_of_susceptible\n",
    "    \n",
    "    # test all asymptomatic individuals- true positive population\n",
    "    tests_of_asymptomatic = np.int(default_pct_students_selected_for_testing_per_day * asymptomatic_infected[day_num])\n",
    "    pos_tests_of_asymptomatic = np.int(tests_of_asymptomatic * (1 - default_false_negative_rates))\n",
    "    neg_tests_of_asymptomatic = tests_of_asymptomatic - pos_tests_of_asymptomatic\n",
    "    \n",
    "    # test all symptomatic individuals- true positive population\n",
    "    tests_of_symptomatic = np.int(default_pct_students_selected_for_testing_per_day * symptomatic_infected[day_num])\n",
    "    pos_tests_of_symptomatic = np.int(tests_of_symptomatic * (1 - default_false_negative_rates))\n",
    "    neg_tests_of_symptomatic = tests_of_symptomatic - pos_tests_of_symptomatic\n",
    "\n",
    "    # test all recovered_unknown- true negative population\n",
    "    tests_of_recovered_unknown = np.int(default_pct_students_selected_for_testing_per_day * recovered_unknown[day_num])\n",
    "    pos_tests_of_recovered_unknown = np.int(tests_of_recovered_unknown * default_false_positive_rates)\n",
    "    neg_tests_of_recovered_unknown = tests_of_recovered_unknown - pos_tests_of_recovered_unknown\n",
    "    \n",
    "    # don't test quarantined or recovered_known - duh\n",
    "    \n",
    "    \n",
    "    ## INFECT!!\n",
    "    # allow intermingling and new infections\n",
    "    num_new_infections_today_in_susceptible_pop = calc_new_infections(symptomatic_infected[day_num], asymptomatic_infected[day_num], susceptible[day_num], quarantined[day_num], recovered_unknown[day_num], recovered_known[day_num])\n",
    "\n",
    "    \n",
    "    ## UPDATE!!\n",
    "    # we quarantine the positive tests and remove them from the population\n",
    "    susceptible[day_num + 1] = susceptible[day_num] - pos_tests_of_susceptible - num_new_infections_today_in_susceptible_pop\n",
    "    \n",
    "    # convert some percent of infections from asymptomatic to symptomatic\n",
    "    if day_num > 2:\n",
    "        asymptomatic_convert_to_symptomatic = np.round((1 - PERCENT_ASYMPTOMATIC) * asymptomatic_infected[day_num - 2])\n",
    "        symptomatic_infected[day_num + 1] = symptomatic_infected[day_num] - pos_tests_of_symptomatic + asymptomatic_convert_to_symptomatic\n",
    "        asymptomatic_infected[day_num + 1] = asymptomatic_infected[day_num] - pos_tests_of_asymptomatic + num_new_infections_today_in_susceptible_pop - asymptomatic_convert_to_symptomatic\n",
    "    else: \n",
    "        symptomatic_infected[day_num + 1] = symptomatic_infected[day_num] - pos_tests_of_symptomatic\n",
    "        asymptomatic_infected[day_num + 1] = asymptomatic_infected[day_num] - pos_tests_of_asymptomatic + num_new_infections_today_in_susceptible_pop\n",
    "    \n",
    "    # move people out of quarantine and anyone undetected gets bumped out of asymptomatic \n",
    "    if day_num > 13:\n",
    "        #recovered_known[day_num + 1] = np.minimum(NUM_STUDENTS, recovered_known[day_num] + symptomatic_infected[day_num - 14])\n",
    "        quarantined[day_num + 1] = np.maximum(0, pos_tests_of_susceptible + pos_tests_of_asymptomatic + pos_tests_of_symptomatic + pos_tests_of_recovered_unknown + quarantined[day_num] - quarantined[day_num - 14])\n",
    "        \n",
    "        #actual_recovered = symptomatic_infected[day_num-14]\n",
    "        #recovered_unknown[day_num + 1] = np.minimum(NUM_STUDENTS-recovered_known[day_num+1], recovered_unknown[day_num] - pos_tests_of_recovered_unknown + actual_recovered)\n",
    "        \n",
    "        symptomatic_infected[day_num + 1] = np.maximum(0, symptomatic_infected[day_num + 1] - symptomatic_infected[day_num - 14])\n",
    "        asymptomatic_infected[day_num + 1] = np.maximum(0, asymptomatic_infected[day_num + 1] - asymptomatic_infected[day_num - 14])\n",
    "\n",
    "    else:  \n",
    "        quarantined[day_num + 1] = np.maximum(0, pos_tests_of_susceptible + pos_tests_of_asymptomatic + pos_tests_of_symptomatic + pos_tests_of_recovered_unknown + quarantined[day_num])\n",
    "        #recovered_unknown[day_num + 1] = recovered_unknown[day_num] - pos_tests_of_recovered_unknown\n",
    "\n",
    "    \n",
    "    # and we let others continue interacting\n",
    "    \n",
    "    # update our populations"
   ]
  },
  {
   "cell_type": "code",
   "execution_count": 12,
   "metadata": {},
   "outputs": [
    {
     "data": {
      "image/png": "[encoded data removed]",
      "text/plain": [
       "<Figure size 432x288 with 1 Axes>"
      ]
     },
     "metadata": {
      "needs_background": "light"
     },
     "output_type": "display_data"
    }
   ],
   "source": [
    "# plot student populations\n",
    "plt.plot(susceptible, label='susceptible')\n",
    "plt.plot(asymptomatic_infected, label='asymptomatic infected')\n",
    "plt.plot(symptomatic_infected, label='symptomatic infected')\n",
    "plt.plot(quarantined, label='quarantined')\n",
    "#plt.plot(recovered_unknown, label='recovered unknown')\n",
    "#plt.plot(recovered_known, label='recovered known')\n",
    "\n",
    "plt.legend()\n",
    "plt.show()"
   ]
  },
  {
   "cell_type": "code",
   "execution_count": null,
   "metadata": {},
   "outputs": [],
   "source": []
  }
 ],
 "metadata": {
  "kernelspec": {
   "display_name": "Python 3",
   "language": "python",
   "name": "python3"
  },
  "language_info": {
   "codemirror_mode": {
    "name": "ipython",
    "version": 3
   },
   "file_extension": ".py",
   "mimetype": "text/x-python",
   "name": "python",
   "nbconvert_exporter": "python",
   "pygments_lexer": "ipython3",
   "version": "3.8.3"
  }
 },
 "nbformat": 4,
 "nbformat_minor": 2
}
